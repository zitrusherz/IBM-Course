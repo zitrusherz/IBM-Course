{
 "cells": [
  {
   "cell_type": "markdown",
   "id": "90700ca8",
   "metadata": {},
   "source": [
    "# This notebook is for the IBM course \"Tools for data science\" in which data science tools and the ecosystem are included."
   ]
  },
  {
   "cell_type": "markdown",
   "id": "5328ad8c-f683-441e-bc49-8e886e203f18",
   "metadata": {},
   "source": [
    "**Objectives:**\n",
    "<ul>\n",
    "<li>list of the most used libraries in data science</li>\n",
    "<li>list of the most popular programming languages</li>\n",
    "<li>table about data science tools</li>\n",
    "<li>arymetical operations code</li>\n",
    "</ul>"
   ]
  },
  {
   "cell_type": "markdown",
   "id": "d4ff530f",
   "metadata": {},
   "source": [
    "The most popular programming languages in use today:\n",
    "<ol>\n",
    "<li>R</li>\n",
    "<li>Python</li>\n",
    "<li>SQL</li>\n",
    "<li>Java</li>\n",
    "<li>Scala</li>\n",
    "<li>Julia</li>\n",
    "<li>MATLAB</li>\n",
    "<li>Conclusión</li>\n",
    "<ol>"
   ]
  },
  {
   "cell_type": "markdown",
   "id": "7b0db52a",
   "metadata": {},
   "source": [
    "The most popular libraries among data scientists are:\n",
    "<ol>\n",
    "<li>Pandas</li>\n",
    "<li>Numpy</li>\n",
    "<li>Plotly</li>\n",
    "<li>Scikit-learn</li>\n",
    "<li>Category-encoders</li>\n",
    "<li>Imbalance Learning</li>\n",
    "<li>LightGBM</li>\n",
    "<li>Keras</li>\n",
    "<li>Tensorflow</li>\n",
    "<li>AzureML-sdk</li>\n",
    "<ol>"
   ]
  },
  {
   "cell_type": "markdown",
   "id": "62f1eae6",
   "metadata": {},
   "source": [
    "|Data Science Tools|\n",
    "|------------------|\n",
    "|Apache Hadoop|\n",
    "|Python|\n",
    "|scikit-learn|"
   ]
  },
  {
   "cell_type": "markdown",
   "id": "e8513be3",
   "metadata": {
    "tags": []
   },
   "source": [
    "### Some of the arithmetic operations that can be performed in Python are as follows"
   ]
  },
  {
   "cell_type": "code",
   "execution_count": 4,
   "id": "472c5fb6",
   "metadata": {
    "is_executing": true
   },
   "outputs": [
    {
     "data": {
      "text/plain": [
       "17"
      ]
     },
     "execution_count": 4,
     "metadata": {},
     "output_type": "execute_result"
    }
   ],
   "source": [
    "(3*4)+5"
   ]
  },
  {
   "cell_type": "code",
   "execution_count": 5,
   "id": "573f2990-7666-4e5f-b31c-2f8a0fcee9da",
   "metadata": {},
   "outputs": [
    {
     "data": {
      "text/plain": [
       "3.3333333333333335"
      ]
     },
     "execution_count": 5,
     "metadata": {},
     "output_type": "execute_result"
    }
   ],
   "source": [
    "# this is the way to turn minutes into hours\n",
    "200/60"
   ]
  },
  {
   "cell_type": "markdown",
   "id": "350550e6-764a-48dc-a450-18a0ecc49e3c",
   "metadata": {},
   "source": [
    "## Author\n",
    "Christopher Euribe"
   ]
  }
 ],
 "metadata": {
  "kernelspec": {
   "display_name": "anaconda-2022.05-py39",
   "language": "python",
   "name": "conda-env-anaconda-2022.05-py39-py"
  },
  "language_info": {
   "codemirror_mode": {
    "name": "ipython",
    "version": 3
   },
   "file_extension": ".py",
   "mimetype": "text/x-python",
   "name": "python",
   "nbconvert_exporter": "python",
   "pygments_lexer": "ipython3",
   "version": "3.9.12"
  }
 },
 "nbformat": 4,
 "nbformat_minor": 5
}
